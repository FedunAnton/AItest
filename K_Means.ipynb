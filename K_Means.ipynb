{
 "cells": [
  {
   "cell_type": "code",
   "execution_count": 1,
   "metadata": {
    "scrolled": true
   },
   "outputs": [
    {
     "name": "stdout",
     "output_type": "stream",
     "text": [
      "Loading data\n"
     ]
    },
    {
     "name": "stderr",
     "output_type": "stream",
     "text": [
      "C:\\ProgramData\\Anaconda3\\lib\\site-packages\\ipykernel_launcher.py:25: DeprecationWarning: `imread` is deprecated!\n",
      "`imread` is deprecated in SciPy 1.0.0.\n",
      "Use ``matplotlib.pyplot.imread`` instead.\n",
      "C:\\ProgramData\\Anaconda3\\lib\\site-packages\\ipykernel_launcher.py:26: DeprecationWarning: `imresize` is deprecated!\n",
      "`imresize` is deprecated in SciPy 1.0.0, and will be removed in 1.2.0.\n",
      "Use ``skimage.transform.resize`` instead.\n"
     ]
    },
    {
     "name": "stdout",
     "output_type": "stream",
     "text": [
      "Get initial centroids\n",
      "Running K-Means\n",
      "Iteration  1  of  5\n",
      "Iteration  2  of  5\n",
      "Iteration  3  of  5\n",
      "Iteration  4  of  5\n",
      "Iteration  5  of  5\n",
      "Compressing image\n",
      "Done!\n"
     ]
    },
    {
     "name": "stderr",
     "output_type": "stream",
     "text": [
      "C:\\ProgramData\\Anaconda3\\lib\\site-packages\\ipykernel_launcher.py:92: DeprecationWarning: `toimage` is deprecated!\n",
      "`toimage` is deprecated in SciPy 1.0.0, and will be removed in 1.2.0.\n",
      "Use Pillow's ``Image.fromarray`` directly instead.\n"
     ]
    }
   ],
   "source": [
    "#Problem №2 for AItest\n",
    "#Image Compression\n",
    "#By Anton Fedun\n",
    "\n",
    "import numpy as np\n",
    "import random\n",
    "import matplotlib.pyplot as plt\n",
    "import scipy.misc\n",
    "from PIL import Image\n",
    "from scipy import ndimage\n",
    "\n",
    "fname = \"nature.jpg\" #works with 512x512 images\n",
    "N = 7                #number of colors in compressed image\n",
    "max_iters = 7        #the bigger - the most likely data fit\n",
    "num_px = 512\n",
    "\n",
    "def initCentroids(X, N):\n",
    "    ran = np.random.permutation(X)\n",
    "    centroids = np.zeros((N, 3))\n",
    "    for i in range(N):\n",
    "        centroids[i] = ran[i]\n",
    "    return centroids\n",
    "\n",
    "def load_data(fname):\n",
    "    image = np.array(ndimage.imread(fname, flatten=False))\n",
    "    my_image = scipy.misc.imresize(image, size=(num_px,num_px)).reshape((num_px*num_px,3))\n",
    "    X = my_image / 255    \n",
    "    return X\n",
    "\n",
    "def findClosestCentroids(X, centroids):\n",
    "    m = X.shape[0]\n",
    "    idx = np.zeros((m, 1))\n",
    "    dist = 0\n",
    "    for i in range(m):\n",
    "        minim = np.inf\n",
    "        for k in range(N):\n",
    "            diff = np.ones(3)\n",
    "            diff = X[i, :] - centroids[k, :]\n",
    "            dist = np.dot(diff.T, diff)\n",
    "            if minim > dist:\n",
    "                minim = dist\n",
    "                idx[i] = k\n",
    "    return idx\n",
    "\n",
    "def computeCentroids(X, idx):\n",
    "    m = X.shape[0]\n",
    "    n = X.shape[1]\n",
    "    centroids = np.zeros((N, n))\n",
    "    for k in range(N):\n",
    "        summ = np.zeros((n, 1))\n",
    "        numk = 0\n",
    "        for i in range(m):\n",
    "            if k == idx[i]:\n",
    "                summ = summ + X[i, :].T\n",
    "                numk = numk + 1      \n",
    "        centroids[k, :] = (summ[1, :] / numk).T        \n",
    "    return centroids\n",
    "\n",
    "def runKMeans(X, init_centroids):\n",
    "    m = X.shape[0]\n",
    "    n = X.shape[1]\n",
    "    centroids = init_centroids\n",
    "    previous_centroids = centroids\n",
    "    idx = np.zeros((m, 1))\n",
    "    for i in range(max_iters):\n",
    "        print(\"Iteration \", i + 1, \" of \", max_iters)\n",
    "        idx = findClosestCentroids(X, centroids)\n",
    "        centroids = computeCentroids(X, idx)\n",
    "    return centroids, idx\n",
    "\n",
    "def getImage(X, centroids):\n",
    "    idx = findClosestCentroids(X, centroids)\n",
    "    X_recov = np.zeros((X.shape))\n",
    "    for i in range(X.shape[0]):\n",
    "        X_recov[i, :] = centroids[idx[i].astype(int), :]\n",
    "    X_recov = np.reshape(X_recov, (num_px, num_px, 3))\n",
    "    X_recov = X_recov * 255\n",
    "    X_recov = X_recov.astype(int)\n",
    "    return X_recov\n",
    "\n",
    "print(\"Loading data\")\n",
    "X = load_data(fname)\n",
    "\n",
    "print(\"Get initial centroids\")\n",
    "init_centroids = initCentroids(X, N)\n",
    "\n",
    "print(\"Running K-Means\")\n",
    "centroids, idx = runKMeans(X, init_centroids)\n",
    "\n",
    "print(\"Compressing image\")\n",
    "X_recov = getImage(X, centroids)\n",
    "scipy.misc.toimage(X_recov, cmin=0.0).save('nature_compressed.jpg')\n",
    "print(\"Done!\")"
   ]
  },
  {
   "cell_type": "code",
   "execution_count": null,
   "metadata": {},
   "outputs": [],
   "source": []
  },
  {
   "cell_type": "code",
   "execution_count": null,
   "metadata": {},
   "outputs": [],
   "source": []
  }
 ],
 "metadata": {
  "kernelspec": {
   "display_name": "Python 3",
   "language": "python",
   "name": "python3"
  },
  "language_info": {
   "codemirror_mode": {
    "name": "ipython",
    "version": 3
   },
   "file_extension": ".py",
   "mimetype": "text/x-python",
   "name": "python",
   "nbconvert_exporter": "python",
   "pygments_lexer": "ipython3",
   "version": "3.6.4"
  }
 },
 "nbformat": 4,
 "nbformat_minor": 2
}
